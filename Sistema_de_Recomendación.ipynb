{
 "cells": [
  {
   "cell_type": "markdown",
   "metadata": {},
   "source": [
    "# **Sistema de Recomendación de Peliculas**\n",
    "El EDA debería incluir gráficas interesantes para extraer datos, como por ejemplo una nube de palabras \n",
    "con las palabras más frecuentes en los títulos de las películas. \n",
    "Éste consiste en recomendar películas a los usuarios basándose en películas similares, por lo que se \n",
    "debe encontrar la similitud de puntuación entre esa película y el resto de películas, se ordenarán según \n",
    "el score de similaridad y devolverá una lista de Python con 5 valores, cada uno siendo el string del \n",
    "nombre de las películas con mayor puntaje, en orden descendente. Debe ser deployado como una función \n",
    "adicional de la API anterior y debe llamarse:\n",
    "\n",
    "+ def **recomendacion( *`titulo`*)**: Se ingresa el nombre de una película y te recomienda las similares en una \n",
    "lista de 5 valores."
   ]
  },
  {
   "cell_type": "code",
   "execution_count": 1,
   "metadata": {},
   "outputs": [
    {
     "name": "stderr",
     "output_type": "stream",
     "text": [
      "C:\\Users\\Asus\\AppData\\Local\\Temp\\ipykernel_14940\\1256747621.py:19: MatplotlibDeprecationWarning:\n",
      "\n",
      "The seaborn styles shipped by Matplotlib are deprecated since 3.6, as they no longer correspond to the styles shipped by seaborn. However, they will remain available as 'seaborn-v0_8-<style>'. Alternatively, directly use the seaborn API instead.\n",
      "\n"
     ]
    }
   ],
   "source": [
    "import numpy as np\n",
    "import pandas as pd\n",
    "import matplotlib.pyplot as plt\n",
    "%matplotlib inline\n",
    "#import networkx as nx\n",
    "import time\n",
    "import seaborn as sns\n",
    "import re\n",
    "import math\n",
    "sns.set_style(\"whitegrid\")\n",
    "#sns.set(style=\"darkgrid\")\n",
    "sns.set_palette(\"tab10\")\n",
    "from IPython.core.interactiveshell import InteractiveShell\n",
    "InteractiveShell.ast_node_interactivity = \"all\"\n",
    "import plotly.express as px\n",
    "import plotly.graph_objs as go\n",
    "from plotly.offline import init_notebook_mode, iplot\n",
    "import datetime as dt\n",
    "plt.style.use('seaborn-notebook')\n",
    "params = {'legend.fontsize': 16,\n",
    "          'legend.title_fontsize': 16,\n",
    "          'figure.figsize': (15, 5),\n",
    "          'axes.labelsize': 18,\n",
    "          'axes.titlesize': 20,\n",
    "          'xtick.labelsize': 18,\n",
    "          'ytick.labelsize': 18}\n",
    "plt.rcParams.update(params)\n",
    "ing_fmt = 'svg'\n",
    "\n",
    "import warnings\n",
    "warnings.filterwarnings(\"ignore\")"
   ]
  },
  {
   "cell_type": "code",
   "execution_count": 16,
   "metadata": {},
   "outputs": [
    {
     "name": "stdout",
     "output_type": "stream",
     "text": [
      "<class 'pandas.core.frame.DataFrame'>\n",
      "RangeIndex: 45378 entries, 0 to 45377\n",
      "Data columns (total 22 columns):\n",
      " #   Column                 Non-Null Count  Dtype  \n",
      "---  ------                 --------------  -----  \n",
      " 0   belongs_to_collection  45378 non-null  object \n",
      " 1   budget                 45378 non-null  float64\n",
      " 2   genres                 45378 non-null  object \n",
      " 3   id                     45378 non-null  int64  \n",
      " 4   original_language      45378 non-null  object \n",
      " 5   overview               45378 non-null  object \n",
      " 6   popularity             45378 non-null  float64\n",
      " 7   production_companies   45378 non-null  object \n",
      " 8   production_countries   45378 non-null  object \n",
      " 9   release_date           45378 non-null  object \n",
      " 10  revenue                45378 non-null  float64\n",
      " 11  runtime                45378 non-null  float64\n",
      " 12  spoken_languages       45378 non-null  object \n",
      " 13  status                 45378 non-null  object \n",
      " 14  tagline                45378 non-null  object \n",
      " 15  title                  45378 non-null  object \n",
      " 16  vote_average           45378 non-null  float64\n",
      " 17  vote_count             45378 non-null  float64\n",
      " 18  release_year           45378 non-null  int64  \n",
      " 19  return                 45378 non-null  float64\n",
      " 20  lenguaje               45378 non-null  object \n",
      " 21  Director               45378 non-null  object \n",
      "dtypes: float64(7), int64(2), object(13)\n",
      "memory usage: 7.6+ MB\n"
     ]
    }
   ],
   "source": [
    "movie_df = pd.read_csv('movies_dataset.csv')\n",
    "movie_df.info()"
   ]
  },
  {
   "cell_type": "code",
   "execution_count": 24,
   "metadata": {},
   "outputs": [
    {
     "data": {
      "text/html": [
       "<div>\n",
       "<style scoped>\n",
       "    .dataframe tbody tr th:only-of-type {\n",
       "        vertical-align: middle;\n",
       "    }\n",
       "\n",
       "    .dataframe tbody tr th {\n",
       "        vertical-align: top;\n",
       "    }\n",
       "\n",
       "    .dataframe thead th {\n",
       "        text-align: right;\n",
       "    }\n",
       "</style>\n",
       "<table border=\"1\" class=\"dataframe\">\n",
       "  <thead>\n",
       "    <tr style=\"text-align: right;\">\n",
       "      <th></th>\n",
       "      <th>index</th>\n",
       "      <th>belongs_to_collection</th>\n",
       "      <th>genres</th>\n",
       "      <th>id</th>\n",
       "      <th>overview</th>\n",
       "      <th>title</th>\n",
       "      <th>vote_average</th>\n",
       "    </tr>\n",
       "  </thead>\n",
       "  <tbody>\n",
       "    <tr>\n",
       "      <th>0</th>\n",
       "      <td>43858</td>\n",
       "      <td>'Sin Dato'</td>\n",
       "      <td>'Drama'</td>\n",
       "      <td>2</td>\n",
       "      <td>Taisto Kasurinen is a Finnish coal miner whose...</td>\n",
       "      <td>Ariel</td>\n",
       "      <td>7.1</td>\n",
       "    </tr>\n",
       "    <tr>\n",
       "      <th>1</th>\n",
       "      <td>43900</td>\n",
       "      <td>'Sin Dato'</td>\n",
       "      <td>'Drama'</td>\n",
       "      <td>3</td>\n",
       "      <td>An episode in the life of Nikander, a garbage ...</td>\n",
       "      <td>Shadows in Paradise</td>\n",
       "      <td>7.1</td>\n",
       "    </tr>\n",
       "    <tr>\n",
       "      <th>2</th>\n",
       "      <td>17</td>\n",
       "      <td>'Sin Dato'</td>\n",
       "      <td>'Crime'</td>\n",
       "      <td>5</td>\n",
       "      <td>It's Ted the Bellhop's first night on the job....</td>\n",
       "      <td>Four Rooms</td>\n",
       "      <td>6.5</td>\n",
       "    </tr>\n",
       "    <tr>\n",
       "      <th>3</th>\n",
       "      <td>436</td>\n",
       "      <td>'Sin Dato'</td>\n",
       "      <td>'Action'</td>\n",
       "      <td>6</td>\n",
       "      <td>While racing to a boxing match, Frank, Mike, J...</td>\n",
       "      <td>Judgment Night</td>\n",
       "      <td>6.4</td>\n",
       "    </tr>\n",
       "    <tr>\n",
       "      <th>4</th>\n",
       "      <td>232</td>\n",
       "      <td>'Star Wars Collection'</td>\n",
       "      <td>'Adventure'</td>\n",
       "      <td>11</td>\n",
       "      <td>Princess Leia is captured and held hostage by ...</td>\n",
       "      <td>Star Wars</td>\n",
       "      <td>8.1</td>\n",
       "    </tr>\n",
       "  </tbody>\n",
       "</table>\n",
       "</div>"
      ],
      "text/plain": [
       "   index    belongs_to_collection        genres  id   \n",
       "0  43858               'Sin Dato'       'Drama'   2  \\\n",
       "1  43900               'Sin Dato'       'Drama'   3   \n",
       "2     17               'Sin Dato'       'Crime'   5   \n",
       "3    436               'Sin Dato'      'Action'   6   \n",
       "4    232   'Star Wars Collection'   'Adventure'  11   \n",
       "\n",
       "                                            overview                title   \n",
       "0  Taisto Kasurinen is a Finnish coal miner whose...                Ariel  \\\n",
       "1  An episode in the life of Nikander, a garbage ...  Shadows in Paradise   \n",
       "2  It's Ted the Bellhop's first night on the job....           Four Rooms   \n",
       "3  While racing to a boxing match, Frank, Mike, J...       Judgment Night   \n",
       "4  Princess Leia is captured and held hostage by ...            Star Wars   \n",
       "\n",
       "   vote_average  \n",
       "0           7.1  \n",
       "1           7.1  \n",
       "2           6.5  \n",
       "3           6.4  \n",
       "4           8.1  "
      ]
     },
     "execution_count": 24,
     "metadata": {},
     "output_type": "execute_result"
    }
   ],
   "source": [
    "movie_df = pd.read_csv('movies_dataset.csv')\n",
    "df = movie_df[['belongs_to_collection','genres','id','overview','title','vote_average']].sort_values('id')\n",
    "df.reset_index(drop=False,inplace=True)\n",
    "df = df[0:30000]\n",
    "df.head()"
   ]
  },
  {
   "cell_type": "code",
   "execution_count": 25,
   "metadata": {},
   "outputs": [],
   "source": [
    "from sklearn.feature_extraction.text import TfidfVectorizer\n",
    "\n",
    "#Defina un objeto vectorizador TF-IDF. Elimné todas las palabras vacías en ingles,como 'the', 'a'\"Material de apoyo.md\"\n",
    "tfidf = TfidfVectorizer(stop_words='english')"
   ]
  },
  {
   "cell_type": "code",
   "execution_count": 26,
   "metadata": {},
   "outputs": [
    {
     "data": {
      "text/plain": [
       "(30000, 62410)"
      ]
     },
     "execution_count": 26,
     "metadata": {},
     "output_type": "execute_result"
    }
   ],
   "source": [
    "# Reemplazar NaN con una cadena vacía\n",
    "df['overview'] = df['overview'].fillna('')\n",
    "\n",
    "# Contruya lamatriz TF_IDF requerida ajustando y transformando los datos\n",
    "tfidf_matrix = tfidf.fit_transform(df['overview'])\n",
    "\n",
    "# Salida de la forma de tfidf_matrix\n",
    "tfidf_matrix.shape"
   ]
  },
  {
   "cell_type": "markdown",
   "metadata": {},
   "source": []
  },
  {
   "cell_type": "code",
   "execution_count": 27,
   "metadata": {},
   "outputs": [],
   "source": [
    "# Import linear_kernel\n",
    "from sklearn.metrics.pairwise import laplacian_kernel\n",
    "\n",
    "# COmpute the cosine similarity matrix\n",
    "cosine_sim = laplacian_kernel(tfidf_matrix, tfidf_matrix)"
   ]
  },
  {
   "cell_type": "code",
   "execution_count": 28,
   "metadata": {},
   "outputs": [],
   "source": [
    "# Construya un mapa inverso de índices y títulos de películas.\n",
    "indices =pd.Series(df.index, index=df['title']).drop_duplicates()"
   ]
  },
  {
   "cell_type": "code",
   "execution_count": 30,
   "metadata": {},
   "outputs": [],
   "source": [
    "def get_recomendations(title, cosine_sim=cosine_sim):\n",
    "    idx = indices[title]\n",
    "\n",
    "    # Obtenga las puntuaciones de similitud por partes de todas las películas con esapelícula\n",
    "    sim_scores = list(enumerate(cosine_sim[idx]))\n",
    "\n",
    "    # Ordene las películas según las puntuaciones de similitud\n",
    "    sim_scores = sorted(sim_scores, key= lambda x: x[1], reverse=True)\n",
    "\n",
    "    # Obtén las puntuaciones de las 10 películas más similares\n",
    "    sim_scores = sim_scores[1:11]\n",
    "\n",
    "    # Obtenga los índices de películas\n",
    "    movie_indices = [i[0] for i in sim_scores]\n",
    "\n",
    "    # Devuelve el top 10 de películas más similares\n",
    "    return df['title'].iloc[movie_indices]"
   ]
  },
  {
   "cell_type": "code",
   "execution_count": 31,
   "metadata": {},
   "outputs": [
    {
     "data": {
      "text/plain": [
       "17979                                     Iceland\n",
       "19196                                         Sur\n",
       "19327                          Afstiros katallilo\n",
       "19498                                   Snow days\n",
       "20165                          Slaves of New York\n",
       "29555                                   Game Over\n",
       "932                                    Metal Skin\n",
       "953                       Keine Lieder über Liebe\n",
       "1049                         Praxis Dr. Hasenbein\n",
       "1051     Texas - Doc Snyder hält die Welt in Atem\n",
       "Name: title, dtype: object"
      ]
     },
     "execution_count": 31,
     "metadata": {},
     "output_type": "execute_result"
    }
   ],
   "source": [
    "get_recomendations('Ariel')"
   ]
  }
 ],
 "metadata": {
  "kernelspec": {
   "display_name": "Python 3",
   "language": "python",
   "name": "python3"
  },
  "language_info": {
   "codemirror_mode": {
    "name": "ipython",
    "version": 3
   },
   "file_extension": ".py",
   "mimetype": "text/x-python",
   "name": "python",
   "nbconvert_exporter": "python",
   "pygments_lexer": "ipython3",
   "version": "3.11.4"
  },
  "orig_nbformat": 4
 },
 "nbformat": 4,
 "nbformat_minor": 2
}
