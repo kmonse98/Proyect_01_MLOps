{
 "cells": [
  {
   "cell_type": "code",
   "execution_count": 1,
   "metadata": {},
   "outputs": [],
   "source": [
    "from fastapi import FastAPI\n",
    "import pandas as pd\n",
    "import numpy as np"
   ]
  },
  {
   "cell_type": "code",
   "execution_count": 2,
   "metadata": {},
   "outputs": [
    {
     "data": {
      "text/html": [
       "<div>\n",
       "<style scoped>\n",
       "    .dataframe tbody tr th:only-of-type {\n",
       "        vertical-align: middle;\n",
       "    }\n",
       "\n",
       "    .dataframe tbody tr th {\n",
       "        vertical-align: top;\n",
       "    }\n",
       "\n",
       "    .dataframe thead th {\n",
       "        text-align: right;\n",
       "    }\n",
       "</style>\n",
       "<table border=\"1\" class=\"dataframe\">\n",
       "  <thead>\n",
       "    <tr style=\"text-align: right;\">\n",
       "      <th></th>\n",
       "      <th>belongs_to_collection</th>\n",
       "      <th>budget</th>\n",
       "      <th>genres</th>\n",
       "      <th>id</th>\n",
       "      <th>original_language</th>\n",
       "      <th>overview</th>\n",
       "      <th>popularity</th>\n",
       "      <th>production_companies</th>\n",
       "      <th>production_countries</th>\n",
       "      <th>release_date</th>\n",
       "      <th>...</th>\n",
       "      <th>spoken_languages</th>\n",
       "      <th>status</th>\n",
       "      <th>tagline</th>\n",
       "      <th>title</th>\n",
       "      <th>vote_average</th>\n",
       "      <th>vote_count</th>\n",
       "      <th>release_year</th>\n",
       "      <th>return</th>\n",
       "      <th>lenguaje</th>\n",
       "      <th>Director</th>\n",
       "    </tr>\n",
       "  </thead>\n",
       "  <tbody>\n",
       "    <tr>\n",
       "      <th>0</th>\n",
       "      <td>'Toy Story Collection'</td>\n",
       "      <td>30000000.0</td>\n",
       "      <td>'Animation'</td>\n",
       "      <td>862</td>\n",
       "      <td>en</td>\n",
       "      <td>Led by Woody, Andy's toys live happily in his ...</td>\n",
       "      <td>21.946943</td>\n",
       "      <td>'Pixar Animation Studios'</td>\n",
       "      <td>'United States of America'</td>\n",
       "      <td>1995-10-30</td>\n",
       "      <td>...</td>\n",
       "      <td>[{'iso_639_1': 'en', 'name': 'English'}]</td>\n",
       "      <td>Released</td>\n",
       "      <td>Sin Dato</td>\n",
       "      <td>Toy Story</td>\n",
       "      <td>7.7</td>\n",
       "      <td>5415.0</td>\n",
       "      <td>1995</td>\n",
       "      <td>12.451801</td>\n",
       "      <td>Inglés</td>\n",
       "      <td>'John Lasseter'</td>\n",
       "    </tr>\n",
       "    <tr>\n",
       "      <th>1</th>\n",
       "      <td>'Sin Dato'</td>\n",
       "      <td>65000000.0</td>\n",
       "      <td>'Adventure'</td>\n",
       "      <td>8844</td>\n",
       "      <td>en</td>\n",
       "      <td>When siblings Judy and Peter discover an encha...</td>\n",
       "      <td>17.015539</td>\n",
       "      <td>'TriStar Pictures'</td>\n",
       "      <td>'United States of America'</td>\n",
       "      <td>1995-12-15</td>\n",
       "      <td>...</td>\n",
       "      <td>[{'iso_639_1': 'en', 'name': 'English'}, {'iso...</td>\n",
       "      <td>Released</td>\n",
       "      <td>Roll the dice and unleash the excitement!</td>\n",
       "      <td>Jumanji</td>\n",
       "      <td>6.9</td>\n",
       "      <td>2413.0</td>\n",
       "      <td>1995</td>\n",
       "      <td>4.043035</td>\n",
       "      <td>Inglés</td>\n",
       "      <td>'Larry J. Franco'</td>\n",
       "    </tr>\n",
       "    <tr>\n",
       "      <th>2</th>\n",
       "      <td>'Grumpy Old Men Collection'</td>\n",
       "      <td>1.0</td>\n",
       "      <td>'Romance'</td>\n",
       "      <td>15602</td>\n",
       "      <td>en</td>\n",
       "      <td>A family wedding reignites the ancient feud be...</td>\n",
       "      <td>11.712900</td>\n",
       "      <td>'Warner Bros.'</td>\n",
       "      <td>'United States of America'</td>\n",
       "      <td>1995-12-22</td>\n",
       "      <td>...</td>\n",
       "      <td>[{'iso_639_1': 'en', 'name': 'English'}]</td>\n",
       "      <td>Released</td>\n",
       "      <td>Still Yelling. Still Fighting. Still Ready for...</td>\n",
       "      <td>Grumpier Old Men</td>\n",
       "      <td>6.5</td>\n",
       "      <td>92.0</td>\n",
       "      <td>1995</td>\n",
       "      <td>0.000000</td>\n",
       "      <td>Inglés</td>\n",
       "      <td>'Howard Deutch'</td>\n",
       "    </tr>\n",
       "  </tbody>\n",
       "</table>\n",
       "<p>3 rows × 22 columns</p>\n",
       "</div>"
      ],
      "text/plain": [
       "          belongs_to_collection      budget        genres     id   \n",
       "0        'Toy Story Collection'  30000000.0   'Animation'    862  \\\n",
       "1                    'Sin Dato'  65000000.0   'Adventure'   8844   \n",
       "2   'Grumpy Old Men Collection'         1.0     'Romance'  15602   \n",
       "\n",
       "  original_language                                           overview   \n",
       "0                en  Led by Woody, Andy's toys live happily in his ...  \\\n",
       "1                en  When siblings Judy and Peter discover an encha...   \n",
       "2                en  A family wedding reignites the ancient feud be...   \n",
       "\n",
       "   popularity        production_companies        production_countries   \n",
       "0   21.946943   'Pixar Animation Studios'  'United States of America'  \\\n",
       "1   17.015539          'TriStar Pictures'  'United States of America'   \n",
       "2   11.712900              'Warner Bros.'  'United States of America'   \n",
       "\n",
       "  release_date  ...                                   spoken_languages   \n",
       "0   1995-10-30  ...           [{'iso_639_1': 'en', 'name': 'English'}]  \\\n",
       "1   1995-12-15  ...  [{'iso_639_1': 'en', 'name': 'English'}, {'iso...   \n",
       "2   1995-12-22  ...           [{'iso_639_1': 'en', 'name': 'English'}]   \n",
       "\n",
       "     status                                            tagline   \n",
       "0  Released                                           Sin Dato  \\\n",
       "1  Released          Roll the dice and unleash the excitement!   \n",
       "2  Released  Still Yelling. Still Fighting. Still Ready for...   \n",
       "\n",
       "              title vote_average vote_count  release_year     return   \n",
       "0         Toy Story          7.7     5415.0          1995  12.451801  \\\n",
       "1           Jumanji          6.9     2413.0          1995   4.043035   \n",
       "2  Grumpier Old Men          6.5       92.0          1995   0.000000   \n",
       "\n",
       "   lenguaje           Director  \n",
       "0    Inglés    'John Lasseter'  \n",
       "1    Inglés  'Larry J. Franco'  \n",
       "2    Inglés    'Howard Deutch'  \n",
       "\n",
       "[3 rows x 22 columns]"
      ]
     },
     "execution_count": 2,
     "metadata": {},
     "output_type": "execute_result"
    }
   ],
   "source": [
    "movies_df = pd.read_csv('movies_dataset.csv')\n",
    "movies_df.head(3)"
   ]
  },
  {
   "cell_type": "code",
   "execution_count": 4,
   "metadata": {},
   "outputs": [
    {
     "name": "stdout",
     "output_type": "stream",
     "text": [
      "<class 'pandas.core.frame.DataFrame'>\n",
      "RangeIndex: 45378 entries, 0 to 45377\n",
      "Data columns (total 22 columns):\n",
      " #   Column                 Non-Null Count  Dtype  \n",
      "---  ------                 --------------  -----  \n",
      " 0   belongs_to_collection  45378 non-null  object \n",
      " 1   budget                 45378 non-null  float64\n",
      " 2   genres                 45378 non-null  object \n",
      " 3   id                     45378 non-null  int64  \n",
      " 4   original_language      45378 non-null  object \n",
      " 5   overview               45378 non-null  object \n",
      " 6   popularity             45378 non-null  float64\n",
      " 7   production_companies   45378 non-null  object \n",
      " 8   production_countries   45378 non-null  object \n",
      " 9   release_date           45378 non-null  object \n",
      " 10  revenue                45378 non-null  float64\n",
      " 11  runtime                45378 non-null  float64\n",
      " 12  spoken_languages       45378 non-null  object \n",
      " 13  status                 45378 non-null  object \n",
      " 14  tagline                45378 non-null  object \n",
      " 15  title                  45378 non-null  object \n",
      " 16  vote_average           45378 non-null  float64\n",
      " 17  vote_count             45378 non-null  float64\n",
      " 18  release_year           45378 non-null  int64  \n",
      " 19  return                 45378 non-null  float64\n",
      " 20  lenguaje               45378 non-null  object \n",
      " 21  Director               45378 non-null  object \n",
      "dtypes: float64(7), int64(2), object(13)\n",
      "memory usage: 7.6+ MB\n"
     ]
    }
   ],
   "source": [
    "movies_df.info()"
   ]
  },
  {
   "attachments": {},
   "cell_type": "markdown",
   "metadata": {},
   "source": [
    "+ def **peliculas_idioma( *`Idioma`: str* )**:\n",
    "    Se ingresa un idioma. Debe devolver la cantidad de películas producidas en ese idioma.\n",
    "\n",
    "&nbsp;&nbsp;&nbsp;&nbsp;&nbsp;&nbsp;&nbsp;&nbsp;&nbsp;&nbsp;&nbsp;&nbsp;&nbsp;&nbsp;&nbsp;&nbsp;&nbsp;&nbsp;&nbsp;&nbsp;Ejemplo de retorno: *`X` cantidad de películas fueron estrenadas en `idioma`*"
   ]
  },
  {
   "cell_type": "code",
   "execution_count": 4,
   "metadata": {},
   "outputs": [
    {
     "data": {
      "text/plain": [
       "array(['Inglés', 'Francés', 'Chino', 'Italiano', 'Persa', 'Holandés',\n",
       "       'Alemán', 'cantonés', 'Árabe', 'Español', 'Ruso', 'Sueco',\n",
       "       'Japonés', 'Corea', 'Serbio', 'Bengalí', 'Hebreo', 'Portugués',\n",
       "       'Wolof', 'Rumania', 'Húngaro', 'Galés', 'Vietnamita', 'Checo',\n",
       "       'Danés', 'Noruego', 'Noruego Bokmal', 'Polaco', 'Griego Moderno',\n",
       "       'sh', 'No Language', 'Macedonia', 'Tibetano estándar', 'Catalán',\n",
       "       'Finlandés', 'Tailandia', 'Eslovaca', 'Bosnia', 'Hindi', 'Turco',\n",
       "       'Islandés', 'Pashto, Pushto', 'Abkhaz', 'Esperanto', 'Georgiano',\n",
       "       'Mongolia', 'Bambara', 'Zulu', 'Ucrania', 'Africanos', 'Latin',\n",
       "       'Estonia', 'Kurdo', 'Oeste de Frisia', 'Letonia', 'Tamil',\n",
       "       'Esloveno', 'Tagalo', 'Urdu', 'Kinyarwanda', 'Indonesio',\n",
       "       'Búlgaro', 'Maratí (Marathi)', 'Lituano', 'Kazajstán', 'Malayo',\n",
       "       'Albania', 'Quechua', 'Telugu', 'Amárico', 'Javanés', 'Tayikistán',\n",
       "       'Malayalam', 'Croacia', 'Lao', 'Aymara', 'Canarés', 'Vasco',\n",
       "       'Nepali', 'Panjabi', 'Kirguises', 'Galicia', 'Uzbeko', 'Samoa',\n",
       "       'Maltés', 'Armenio', 'Inuktitut', 'Luxemburgués', 'Cingalés'],\n",
       "      dtype=object)"
      ]
     },
     "execution_count": 4,
     "metadata": {},
     "output_type": "execute_result"
    }
   ],
   "source": [
    "movies_df['lenguaje'].unique()"
   ]
  },
  {
   "cell_type": "code",
   "execution_count": 5,
   "metadata": {},
   "outputs": [],
   "source": [
    "def peliculas_idioma(Idioma:str):\n",
    "    num = movies_df[movies_df['lenguaje'] == Idioma].shape[0] \n",
    "    print(f\"{num} películas fueron estrenadas en idioma {Idioma}\")"
   ]
  },
  {
   "cell_type": "code",
   "execution_count": 6,
   "metadata": {},
   "outputs": [
    {
     "name": "stdout",
     "output_type": "stream",
     "text": [
      "32213 películas fueron estrenadas en idioma Inglés\n"
     ]
    }
   ],
   "source": [
    "peliculas_idioma('Inglés')"
   ]
  },
  {
   "attachments": {},
   "cell_type": "markdown",
   "metadata": {},
   "source": [
    "+ def **peliculas_duracion( *`Pelicula`: str* )**:\n",
    "    Se ingresa una pelicula. Debe devolver la la duracion y el año.\n",
    "\n",
    "&nbsp;&nbsp;&nbsp;&nbsp;&nbsp;&nbsp;&nbsp;&nbsp;&nbsp;&nbsp;&nbsp;&nbsp;&nbsp;&nbsp;&nbsp;&nbsp;&nbsp;&nbsp;&nbsp;&nbsp;Ejemplo de retorno: *`X` . Duración: `x`. Año: `xx`*"
   ]
  },
  {
   "cell_type": "code",
   "execution_count": 41,
   "metadata": {},
   "outputs": [
    {
     "data": {
      "text/plain": [
       "1    104.0\n",
       "Name: runtime, dtype: float64"
      ]
     },
     "execution_count": 41,
     "metadata": {},
     "output_type": "execute_result"
    }
   ],
   "source": [
    "movies_df[movies_df['title'] == 'Jumanji']['runtime']\n"
   ]
  },
  {
   "cell_type": "code",
   "execution_count": 27,
   "metadata": {},
   "outputs": [
    {
     "data": {
      "text/plain": [
       "1995"
      ]
     },
     "execution_count": 27,
     "metadata": {},
     "output_type": "execute_result"
    }
   ],
   "source": [
    "movies_df[movies_df['title'] == 'Jumanji']['release_year'][1]"
   ]
  },
  {
   "cell_type": "code",
   "execution_count": 30,
   "metadata": {},
   "outputs": [],
   "source": [
    "def peliculas_duracion(Pelicula:str):\n",
    "    duration = movies_df[movies_df['title'] == Pelicula]['runtime'][1]\n",
    "    anio = movies_df[movies_df['title'] == Pelicula]['release_year'][1]\n",
    "    print(f\"La pelicula {Pelicula} tiene una duración de {duration} minutos y se estrenó en el año {anio}\")  "
   ]
  },
  {
   "cell_type": "code",
   "execution_count": 31,
   "metadata": {},
   "outputs": [
    {
     "name": "stdout",
     "output_type": "stream",
     "text": [
      "La pelicula Jumanji tiene una duración de 104.0 minutos y se estrenó en el año 1995\n"
     ]
    }
   ],
   "source": [
    "peliculas_duracion('Jumanji')"
   ]
  },
  {
   "attachments": {},
   "cell_type": "markdown",
   "metadata": {},
   "source": [
    "+ def **franquicia( *`Franquicia`: str* )**:\n",
    "    Se ingresa la franquicia, retornando la cantidad de peliculas, ganancia total y promedio\n",
    "    \n",
    "&nbsp;&nbsp;&nbsp;&nbsp;&nbsp;&nbsp;&nbsp;&nbsp;&nbsp;&nbsp;&nbsp;&nbsp;&nbsp;&nbsp;&nbsp;&nbsp;&nbsp;&nbsp;&nbsp;&nbsp;Ejemplo de retorno: *La franquicia `X` posee `X` peliculas, una ganancia total de `x` y una ganancia promedio de `xx`*"
   ]
  },
  {
   "cell_type": "code",
   "execution_count": 32,
   "metadata": {},
   "outputs": [
    {
     "data": {
      "text/plain": [
       "0               'Toy Story Collection'\n",
       "1                           'Sin Dato'\n",
       "2          'Grumpy Old Men Collection'\n",
       "3                           'Sin Dato'\n",
       "4     'Father of the Bride Collection'\n",
       "Name: belongs_to_collection, dtype: object"
      ]
     },
     "execution_count": 32,
     "metadata": {},
     "output_type": "execute_result"
    }
   ],
   "source": [
    "movies_df['belongs_to_collection'].head()"
   ]
  },
  {
   "cell_type": "code",
   "execution_count": 75,
   "metadata": {},
   "outputs": [],
   "source": [
    "def franquicia(Franquicia:str):\n",
    "    cantidad_pelis = movies_df[movies_df['belongs_to_collection'] == Franquicia].shape[0]\n",
    "    ganancia_total = movies_df[movies_df['belongs_to_collection'] == Franquicia]['revenue'].sum() \n",
    "    #ganancia_promedio = movies_df[movies_df['production_companies'] == Franquicia]['revenue'].promedio()\n",
    "    print(f\"La franquicia {Franquicia} posee {cantidad_pelis} peliculas con una ganancia total de: {ganancia_total}\")"
   ]
  },
  {
   "cell_type": "code",
   "execution_count": 76,
   "metadata": {},
   "outputs": [
    {
     "name": "stdout",
     "output_type": "stream",
     "text": [
      "La franquicia  'Pixar Animation Studios' posee 29 peliculas con una ganancia total de: 2546355520.0\n"
     ]
    }
   ],
   "source": [
    "franquicia(\" 'Pixar Animation Studios'\")"
   ]
  },
  {
   "attachments": {},
   "cell_type": "markdown",
   "metadata": {},
   "source": [
    "+ def **peliculas_pais( *`Pais`: str* )**:\n",
    "    Se ingresa un país, retornando la cantidad de peliculas producidas en el mismo.\n",
    "    \n",
    "&nbsp;&nbsp;&nbsp;&nbsp;&nbsp;&nbsp;&nbsp;&nbsp;&nbsp;&nbsp;&nbsp;&nbsp;&nbsp;&nbsp;&nbsp;&nbsp;&nbsp;&nbsp;&nbsp;&nbsp;Ejemplo de retorno: *Se produjeron `X` películas en el país `X`*"
   ]
  },
  {
   "cell_type": "code",
   "execution_count": 79,
   "metadata": {},
   "outputs": [],
   "source": [
    "def peliculas_pais(Pais:str):\n",
    "    cantidad_pelis = movies_df[movies_df['production_countries'] == Pais].shape[0]\n",
    "    print(f\"El país {Pais} ha producido {cantidad_pelis} películas\")"
   ]
  },
  {
   "cell_type": "code",
   "execution_count": 80,
   "metadata": {},
   "outputs": [
    {
     "name": "stdout",
     "output_type": "stream",
     "text": [
      "El país 'United States of America' ha producido 18407 películas\n"
     ]
    }
   ],
   "source": [
    "peliculas_pais(\"'United States of America'\")"
   ]
  },
  {
   "attachments": {},
   "cell_type": "markdown",
   "metadata": {},
   "source": [
    "+ def **productoras_exitosas( *`Productora`: str* )**:\n",
    "    Se ingresa la productora, entregandote el revunue total y la cantidad de peliculas que realizo. \n",
    "    \n",
    "&nbsp;&nbsp;&nbsp;&nbsp;&nbsp;&nbsp;&nbsp;&nbsp;&nbsp;&nbsp;&nbsp;&nbsp;&nbsp;&nbsp;&nbsp;&nbsp;&nbsp;&nbsp;&nbsp;&nbsp;Ejemplo de retorno: *La productora `X` ha tenido un revenue de `x`*"
   ]
  },
  {
   "cell_type": "code",
   "execution_count": 81,
   "metadata": {},
   "outputs": [],
   "source": [
    "def productoras_exitosas(Productora:str):\n",
    "    cantidad_pelis = movies_df[movies_df['production_companies'] == Productora].shape[0]\n",
    "    ganancia_total = movies_df[movies_df['production_companies'] == Productora]['revenue'].sum() \n",
    "    print(f\"La Productora: {Productora} posee {cantidad_pelis} peliculas con una ganancia total de: {ganancia_total}\")"
   ]
  },
  {
   "cell_type": "code",
   "execution_count": 82,
   "metadata": {},
   "outputs": [
    {
     "name": "stdout",
     "output_type": "stream",
     "text": [
      "La Productora:  'Pixar Animation Studios' posee 29 peliculas con una ganancia total de: 2546355520.0\n"
     ]
    }
   ],
   "source": [
    "productoras_exitosas(\" 'Pixar Animation Studios'\")"
   ]
  },
  {
   "attachments": {},
   "cell_type": "markdown",
   "metadata": {},
   "source": [
    "+ def **get_director( *`nombre_director`* )**:\n",
    "    Se ingresa el nombre de un director que se encuentre dentro de un dataset debiendo devolver el éxito del mismo medido a través del retorno. Además, deberá devolver el nombre de cada película con la fecha de lanzamiento, retorno individual, costo y ganancia de la misma, en formato lista."
   ]
  },
  {
   "cell_type": "code",
   "execution_count": null,
   "metadata": {},
   "outputs": [],
   "source": [
    "def get_director(nombre_director:str):\n",
    "    movies_director = movies_df[movies_df['Director']==nombre_director]\n",
    "    movies_director['title','release_year','budget','revenue','return']\n",
    "    "
   ]
  }
 ],
 "metadata": {
  "kernelspec": {
   "display_name": "Python 3",
   "language": "python",
   "name": "python3"
  },
  "language_info": {
   "codemirror_mode": {
    "name": "ipython",
    "version": 3
   },
   "file_extension": ".py",
   "mimetype": "text/x-python",
   "name": "python",
   "nbconvert_exporter": "python",
   "pygments_lexer": "ipython3",
   "version": "3.11.4"
  },
  "orig_nbformat": 4
 },
 "nbformat": 4,
 "nbformat_minor": 2
}
